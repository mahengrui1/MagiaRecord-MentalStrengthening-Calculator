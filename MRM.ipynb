{
 "cells": [
  {
   "cell_type": "markdown",
   "metadata": {},
   "source": [
    "20201215\n",
    "solve magia record mental weight"
   ]
  },
  {
   "cell_type": "code",
   "execution_count": 170,
   "metadata": {},
   "outputs": [],
   "source": [
    "import numpy as np\n",
    "import time\n",
    "#from itertools import combinations, permutations\n",
    "import random"
   ]
  },
  {
   "cell_type": "code",
   "execution_count": 171,
   "metadata": {},
   "outputs": [],
   "source": [
    "LL = lambda x: [[i] for i in x]#list the list"
   ]
  },
  {
   "cell_type": "code",
   "execution_count": 172,
   "metadata": {},
   "outputs": [],
   "source": [
    "def II(result,iil,Nbr):\n",
    "    '''\n",
    "    iteration rapid increase\n",
    "    iil: II List; Nbr: length of result\n",
    "    To call it, II([[]],LL(range(1,point+2)),Nbr-1)\n",
    "    '''\n",
    "    result2=[]\n",
    "    for x in iil:\n",
    "        #print(result,iil)\n",
    "        result2 += [subset + x for subset in result]\n",
    "    if len(result2[0])==Nbr: return result2\n",
    "    #collecting\n",
    "    ALL=[]\n",
    "    for the in result2:\n",
    "        a=II([the],LL(range(max(the),iil[-1][0]+1)),Nbr)\n",
    "        for a2 in a:\n",
    "            ALL.append(a2)\n",
    "    return ALL"
   ]
  },
  {
   "cell_type": "code",
   "execution_count": 173,
   "metadata": {},
   "outputs": [],
   "source": [
    "def DP(point,Nbr):\n",
    "    '''\n",
    "    math, distribute points to diff Nbr subplots, from 0 to max. Nbr >=2, point >=2\n",
    "    rep: re-calculate parameters.\n",
    "    '''\n",
    "    c=[]\n",
    "    for i2 in II([[]],LL(range(1,point+2)),Nbr-1):\n",
    "        d=[i2[0]-1]+list(np.diff(i2))+[point-i2[-1]+1]\n",
    "        #f=d.copy()\n",
    "        #f.reverse()\n",
    "        c.append(d)\n",
    "        #c.append(f)\n",
    "        #temp=[]#remove repeated. https://blog.csdn.net/Jerry_1126/article/details/79843751\n",
    "        #[temp.append(i) for i in c if not i in temp]\n",
    "    return c#temp"
   ]
  },
  {
   "cell_type": "code",
   "execution_count": 210,
   "metadata": {},
   "outputs": [],
   "source": [
    "data=np.loadtxt('HomuraGMS3.csv','str',delimiter=',')"
   ]
  },
  {
   "cell_type": "code",
   "execution_count": 211,
   "metadata": {},
   "outputs": [],
   "source": [
    "#data"
   ]
  },
  {
   "cell_type": "code",
   "execution_count": 212,
   "metadata": {},
   "outputs": [],
   "source": [
    "data[0,0]=data[0,0][1:]"
   ]
  },
  {
   "cell_type": "code",
   "execution_count": 213,
   "metadata": {},
   "outputs": [
    {
     "data": {
      "text/plain": [
       "array([['1', '9999'],\n",
       "       ['103', '9999'],\n",
       "       ['103000', '0.004500927'],\n",
       "       ['1030000', '0.007942812'],\n",
       "       ['101', '9999'],\n",
       "       ['1010', '0.004103786'],\n",
       "       ['1020', '0.004103786'],\n",
       "       ['10200', '0.004500927'],\n",
       "       ['10', '9999'],\n",
       "       ['1030', '9999'],\n",
       "       ['10300', '0.009828663'],\n",
       "       ['10100', '0.006993971'],\n",
       "       ['102', '0.00620155'],\n",
       "       ['21010', '0.007942812'],\n",
       "       ['21020', '0.004500927'],\n",
       "       ['220', '0.003839026'],\n",
       "       ['23001100', '0.004500927'],\n",
       "       ['230020', '0.004500927'],\n",
       "       ['23002000', '0.007942812'],\n",
       "       ['2300120', '0.009828663'],\n",
       "       ['2300200', '0.009828663'],\n",
       "       ['2', '9999'],\n",
       "       ['21', '0.005822567'],\n",
       "       ['210', '0.00620155'],\n",
       "       ['2101', '0.006614987'],\n",
       "       ['2102', '0.006614987'],\n",
       "       ['22', '0.005822567'],\n",
       "       ['2200', '0.006614987'],\n",
       "       ['22000', '0.006993971'],\n",
       "       ['220000', '0.012713178'],\n",
       "       ['23', '9999'],\n",
       "       ['230', '9999'],\n",
       "       ['2300', '9999'],\n",
       "       ['23001', '0.007942812'],\n",
       "       ['230011', '0.006614987'],\n",
       "       ['2300110', '0.006993971'],\n",
       "       ['230012', '0.006993971'],\n",
       "       ['23002', '0.006614987'],\n",
       "       ['3', '9999'],\n",
       "       ['31', '9999'],\n",
       "       ['310', '9999'],\n",
       "       ['32', '0.003574265'],\n",
       "       ['32000000', '0.004500927'],\n",
       "       ['32000', '0.006614987'],\n",
       "       ['320000', '0.006993971'],\n",
       "       ['3100', '9999'],\n",
       "       ['320', '0.008766104'],\n",
       "       ['3200', '0.009430203'],\n",
       "       ['3200000', '0.009828663'],\n",
       "       ['320000000', '0.009828663'],\n",
       "       ['4', '9999'],\n",
       "       ['40', '9999'],\n",
       "       ['401', '9999'],\n",
       "       ['4010', '1'],\n",
       "       ['4020000', '0.007942812'],\n",
       "       ['40300', '0.004500927'],\n",
       "       ['40200', '0.006993971'],\n",
       "       ['403', '9999'],\n",
       "       ['402', '9999'],\n",
       "       ['4020', '0.009430203'],\n",
       "       ['402000', '0.009828663'],\n",
       "       ['4030', '0.009430203'],\n",
       "       ['403000', '0.017930668'],\n",
       "       ['51', '9999'],\n",
       "       ['5110', '9999'],\n",
       "       ['511000', '0.004500927'],\n",
       "       ['512000', '0.004500927'],\n",
       "       ['5120000', '0.004500927'],\n",
       "       ['52', '9999'],\n",
       "       ['520', '9999'],\n",
       "       ['5202', '9999'],\n",
       "       ['5201', '9999'],\n",
       "       ['52010', '9999'],\n",
       "       ['520100', '9999'],\n",
       "       ['52010000', '1'],\n",
       "       ['5203', '1'],\n",
       "       ['5110000', '0.012713178'],\n",
       "       ['512', '9999'],\n",
       "       ['5120', '9999'],\n",
       "       ['51200', '0.006614987'],\n",
       "       ['52020', '0.006993971'],\n",
       "       ['520300', '0.006993971'],\n",
       "       ['5203000', '0.012713178'],\n",
       "       ['5', '9999'],\n",
       "       ['511', '9999'],\n",
       "       ['51100', '9999'],\n",
       "       ['5201000', '0.009828663'],\n",
       "       ['52030', '0.009828663'],\n",
       "       ['6', '9999'],\n",
       "       ['6200', '0.04'],\n",
       "       ['6100', '9999'],\n",
       "       ['62000', '0.004103786'],\n",
       "       ['62', '9999'],\n",
       "       ['620', '9999'],\n",
       "       ['61', '9999'],\n",
       "       ['61000', '9999'],\n",
       "       ['610000', '0.017930668'],\n",
       "       ['610', '9999'],\n",
       "       ['620000', '0.009828663'],\n",
       "       ['6200000', '0.017930668']], dtype='<U11')"
      ]
     },
     "execution_count": 213,
     "metadata": {},
     "output_type": "execute_result"
    }
   ],
   "source": [
    "data"
   ]
  },
  {
   "cell_type": "markdown",
   "metadata": {},
   "source": [
    "# This is for 6 branches girl (e.g. Iroha)"
   ]
  },
  {
   "cell_type": "code",
   "execution_count": 214,
   "metadata": {},
   "outputs": [],
   "source": [
    "# collapse\n",
    "\n",
    "for i in range(len(data)):\n",
    "    data[i,0]=str(int(data[i,0][0])%3+1)+data[i,0]\n",
    "\n",
    "data = np.concatenate((data, [['1',9999],['2',9999],['3',9999]]), axis=0)"
   ]
  },
  {
   "cell_type": "code",
   "execution_count": 215,
   "metadata": {},
   "outputs": [
    {
     "data": {
      "text/plain": [
       "array([['21', '9999'],\n",
       "       ['2103', '9999'],\n",
       "       ['2103000', '0.004500927'],\n",
       "       ['21030000', '0.007942812'],\n",
       "       ['2101', '9999'],\n",
       "       ['21010', '0.004103786'],\n",
       "       ['21020', '0.004103786'],\n",
       "       ['210200', '0.004500927'],\n",
       "       ['210', '9999'],\n",
       "       ['21030', '9999'],\n",
       "       ['210300', '0.009828663'],\n",
       "       ['210100', '0.006993971'],\n",
       "       ['2102', '0.00620155'],\n",
       "       ['321010', '0.007942812'],\n",
       "       ['321020', '0.004500927'],\n",
       "       ['3220', '0.003839026'],\n",
       "       ['323001100', '0.004500927'],\n",
       "       ['3230020', '0.004500927'],\n",
       "       ['323002000', '0.007942812'],\n",
       "       ['32300120', '0.009828663'],\n",
       "       ['32300200', '0.009828663'],\n",
       "       ['32', '9999'],\n",
       "       ['321', '0.005822567'],\n",
       "       ['3210', '0.00620155'],\n",
       "       ['32101', '0.006614987'],\n",
       "       ['32102', '0.006614987'],\n",
       "       ['322', '0.005822567'],\n",
       "       ['32200', '0.006614987'],\n",
       "       ['322000', '0.006993971'],\n",
       "       ['3220000', '0.012713178'],\n",
       "       ['323', '9999'],\n",
       "       ['3230', '9999'],\n",
       "       ['32300', '9999'],\n",
       "       ['323001', '0.007942812'],\n",
       "       ['3230011', '0.006614987'],\n",
       "       ['32300110', '0.006993971'],\n",
       "       ['3230012', '0.006993971'],\n",
       "       ['323002', '0.006614987'],\n",
       "       ['13', '9999'],\n",
       "       ['131', '9999'],\n",
       "       ['1310', '9999'],\n",
       "       ['132', '0.003574265'],\n",
       "       ['132000000', '0.004500927'],\n",
       "       ['132000', '0.006614987'],\n",
       "       ['1320000', '0.006993971'],\n",
       "       ['13100', '9999'],\n",
       "       ['1320', '0.008766104'],\n",
       "       ['13200', '0.009430203'],\n",
       "       ['13200000', '0.009828663'],\n",
       "       ['1320000000', '0.009828663'],\n",
       "       ['24', '9999'],\n",
       "       ['240', '9999'],\n",
       "       ['2401', '9999'],\n",
       "       ['24010', '1'],\n",
       "       ['24020000', '0.007942812'],\n",
       "       ['240300', '0.004500927'],\n",
       "       ['240200', '0.006993971'],\n",
       "       ['2403', '9999'],\n",
       "       ['2402', '9999'],\n",
       "       ['24020', '0.009430203'],\n",
       "       ['2402000', '0.009828663'],\n",
       "       ['24030', '0.009430203'],\n",
       "       ['2403000', '0.017930668'],\n",
       "       ['351', '9999'],\n",
       "       ['35110', '9999'],\n",
       "       ['3511000', '0.004500927'],\n",
       "       ['3512000', '0.004500927'],\n",
       "       ['35120000', '0.004500927'],\n",
       "       ['352', '9999'],\n",
       "       ['3520', '9999'],\n",
       "       ['35202', '9999'],\n",
       "       ['35201', '9999'],\n",
       "       ['352010', '9999'],\n",
       "       ['3520100', '9999'],\n",
       "       ['352010000', '1'],\n",
       "       ['35203', '1'],\n",
       "       ['35110000', '0.012713178'],\n",
       "       ['3512', '9999'],\n",
       "       ['35120', '9999'],\n",
       "       ['351200', '0.006614987'],\n",
       "       ['352020', '0.006993971'],\n",
       "       ['3520300', '0.006993971'],\n",
       "       ['35203000', '0.012713178'],\n",
       "       ['35', '9999'],\n",
       "       ['3511', '9999'],\n",
       "       ['351100', '9999'],\n",
       "       ['35201000', '0.009828663'],\n",
       "       ['352030', '0.009828663'],\n",
       "       ['16', '9999'],\n",
       "       ['16200', '0.04'],\n",
       "       ['16100', '9999'],\n",
       "       ['162000', '0.004103786'],\n",
       "       ['162', '9999'],\n",
       "       ['1620', '9999'],\n",
       "       ['161', '9999'],\n",
       "       ['161000', '9999'],\n",
       "       ['1610000', '0.017930668'],\n",
       "       ['1610', '9999'],\n",
       "       ['1620000', '0.009828663'],\n",
       "       ['16200000', '0.017930668'],\n",
       "       ['1', '9999'],\n",
       "       ['2', '9999'],\n",
       "       ['3', '9999']], dtype='<U11')"
      ]
     },
     "execution_count": 215,
     "metadata": {},
     "output_type": "execute_result"
    }
   ],
   "source": [
    "data"
   ]
  },
  {
   "cell_type": "code",
   "execution_count": 216,
   "metadata": {},
   "outputs": [],
   "source": [
    "BM={}#branch memory weight\n",
    "BMt={}# 's text\n",
    "#DPd={}#distribution dictionary"
   ]
  },
  {
   "cell_type": "code",
   "execution_count": 217,
   "metadata": {},
   "outputs": [],
   "source": [
    "def SB(data,Vl,point,weights,skipNbr=9999):\n",
    "    '''\n",
    "    data,verify letter (after check this plot), point unused (before check this plot), \n",
    "    weights gained from this point (after check this plot), comments added (from this plot)\n",
    "    example: SB(data,'1','15',300,', the plot name is 1')\n",
    "    skipNbr: if a weights is 9999, then weights = 0 and dont use point\n",
    "    \n",
    "    return: 1 or 0 is the if 'waste', if waste, the upper will record the result to increase the speed\n",
    "    '''\n",
    "    global BM, BMt\n",
    "    \n",
    "    if point>=4:\n",
    "        if (Vl,point) in list(BM.keys()):\n",
    "            return BM[(Vl,point)],BMt[(Vl,point)], 0\n",
    "    \n",
    "    #print(weights)\n",
    "    if point==0: return 0, '', 0\n",
    "    point -= 1\n",
    "    if weights==skipNbr:#skip this plot\n",
    "        point += 1\n",
    "        weights = 0\n",
    "    Vls=data[:,0]#verify letter list\n",
    "    PSBL=[]#search branch list prepare (for distribution)\n",
    "    SBL=[]#search branch list\n",
    "    for i in range(len(Vls)):\n",
    "        iV=Vls[i][:-1]#to compare\n",
    "        if iV==Vl:#record weight distribution\n",
    "            #iweights=\n",
    "            #SBL.append(SB(data,Vls[i],point,weights+float(data[i,1]),co+','+Vls[i]))\n",
    "            PSBL.append(i)\n",
    "    #print(Vl,PSBL)\n",
    "    if len(PSBL)==0:#no subplot\n",
    "        return weights, ', '+Vl, 0#waste number (0 here) occurs when unnessensary SB() occurs\n",
    "    elif len(PSBL)==1:#have 1 subplot\n",
    "        #print(SB(data,Vls[PSBL[0]],point,float(data[PSBL[0],1])))\n",
    "        [PSBLw, PSBLco, ifw]=SB(data,Vls[PSBL[0]],point,float(data[PSBL[0],1]))#if waste\n",
    "        if ifw:\n",
    "            if point>=3:\n",
    "                BM[(Vls[PSBL[0]],point)]=PSBLw\n",
    "                BMt[(Vls[PSBL[0]],point)]=PSBLco\n",
    "        return weights+PSBLw, ', '+Vl+PSBLco, 0\n",
    "    else:#start distribution\n",
    "        if point==0: return weights, ', '+Vl,0#can not distribute\n",
    "        if point==1:#simple distribute\n",
    "            for i2 in PSBL:\n",
    "                #print('i2')\n",
    "                [i2a, i2b, i2c]=SB(data,Vls[i2],1,float(data[i2,1]))\n",
    "                \n",
    "                #if i2c:\n",
    "                 #   if point>=9:\n",
    "                  #      BM[Vls[i2]]=i2a\n",
    "                   #     BMt[Vls[i2]]=i2b   one point and multiple branch is not waste\n",
    "                        \n",
    "                SBL.append([i2a, i2b])#deal with SBL with point>1\n",
    "                ifw=0\n",
    "        else:\n",
    "            #print(point,PSBL)\n",
    "            PL=DP(round(point),len(PSBL))#prepare the point list # this is the reason of waste\n",
    "            for thePL in PL:\n",
    "                thePLw=0\n",
    "                thePLco=''\n",
    "                for i4, i5 in zip(thePL, PSBL):\n",
    "                    [i4a, i4b, i4c]=SB(data,Vls[i5],i4,float(data[i5,1]))\n",
    "                    \n",
    "                    if i4c:\n",
    "                        if point>=3:\n",
    "                            BM[(Vls[i5],i4)]=i4a\n",
    "                            BMt[(Vls[i5],i4)]=i4b\n",
    "                    \n",
    "                    thePLw += i4a\n",
    "                    thePLco = thePLco + i4b\n",
    "                #print('i4')\n",
    "                SBL.append([thePLw, thePLco])\n",
    "            ifw=1\n",
    "            \n",
    "        #print(SBL)\n",
    "        Cmax=max([choose[0] for choose in SBL])#check highest weight\n",
    "        \n",
    "        for i3 in SBL:\n",
    "            if i3[0]==Cmax:\n",
    "                i3a=weights+Cmax\n",
    "                i3b=', '+Vl+i3[1]\n",
    "\n",
    "                \n",
    "                return i3a, i3b, 1"
   ]
  },
  {
   "cell_type": "code",
   "execution_count": 218,
   "metadata": {},
   "outputs": [],
   "source": [
    "#SB(data,'1',11,0.004200672)"
   ]
  },
  {
   "cell_type": "code",
   "execution_count": 219,
   "metadata": {},
   "outputs": [
    {
     "data": {
      "text/plain": [
       "(3.222258475,\n",
       " ', , 1, 16, 162, 1620, 16200, 162000, 1620000, 16200000, 161, 1610, 16100, 161000, 1610000, 2, 21, 210, 2103, 21030, 210300, 24, 240, 2401, 24010, 2403, 24030, 240300, 2403000, 2402, 24020, 3, 32, 323, 3230, 32300, 323001, 3230012, 32300120, 35, 351, 3511, 35110, 351100, 3511000, 35110000, 352, 3520, 35201, 352010, 3520100, 35201000, 352010000, 35203, 352030, 3520300, 35203000',\n",
       " 1)"
      ]
     },
     "execution_count": 219,
     "metadata": {},
     "output_type": "execute_result"
    }
   ],
   "source": [
    "BM={}#branch memory weight\n",
    "BMt={}# 's text\n",
    "\n",
    "result=SB(data,'',22,9999)"
   ]
  },
  {
   "cell_type": "code",
   "execution_count": 224,
   "metadata": {},
   "outputs": [
    {
     "ename": "NameError",
     "evalue": "name 'result' is not defined",
     "output_type": "error",
     "traceback": [
      "\u001b[1;31m---------------------------------------------------------------------------\u001b[0m",
      "\u001b[1;31mNameError\u001b[0m                                 Traceback (most recent call last)",
      "\u001b[1;32m<ipython-input-224-c5efcbd79954>\u001b[0m in \u001b[0;36m<module>\u001b[1;34m\u001b[0m\n\u001b[1;32m----> 1\u001b[1;33m \u001b[0mprint\u001b[0m\u001b[1;33m(\u001b[0m\u001b[0mresult\u001b[0m\u001b[1;33m)\u001b[0m\u001b[1;33m\u001b[0m\u001b[1;33m\u001b[0m\u001b[0m\n\u001b[0m\u001b[0;32m      2\u001b[0m \u001b[1;33m\u001b[0m\u001b[0m\n\u001b[0;32m      3\u001b[0m \u001b[1;31m#or\u001b[0m\u001b[1;33m\u001b[0m\u001b[1;33m\u001b[0m\u001b[1;33m\u001b[0m\u001b[0m\n\u001b[0;32m      4\u001b[0m \u001b[1;33m\u001b[0m\u001b[0m\n\u001b[0;32m      5\u001b[0m \u001b[0mprint\u001b[0m\u001b[1;33m(\u001b[0m\u001b[0mresult\u001b[0m\u001b[1;33m.\u001b[0m\u001b[0mreplace\u001b[0m\u001b[1;33m(\u001b[0m\u001b[1;34m' 1'\u001b[0m\u001b[1;33m,\u001b[0m\u001b[1;34m' '\u001b[0m\u001b[1;33m)\u001b[0m\u001b[1;33m.\u001b[0m\u001b[0mreplace\u001b[0m\u001b[1;33m(\u001b[0m\u001b[1;34m' 2'\u001b[0m\u001b[1;33m,\u001b[0m\u001b[1;34m' '\u001b[0m\u001b[1;33m)\u001b[0m\u001b[1;33m.\u001b[0m\u001b[0mreplace\u001b[0m\u001b[1;33m(\u001b[0m\u001b[1;34m' 3'\u001b[0m\u001b[1;33m,\u001b[0m\u001b[1;34m' '\u001b[0m\u001b[1;33m)\u001b[0m\u001b[1;33m)\u001b[0m\u001b[1;31m#if uses collapse\u001b[0m\u001b[1;33m\u001b[0m\u001b[1;33m\u001b[0m\u001b[0m\n",
      "\u001b[1;31mNameError\u001b[0m: name 'result' is not defined"
     ]
    }
   ],
   "source": [
    "print(result)\n",
    "\n",
    "#or\n",
    "\n",
    "print(result.replace(' 1',' ').replace(' 2',' ').replace(' 3',' '))#if uses collapse"
   ]
  },
  {
   "cell_type": "markdown",
   "metadata": {},
   "source": [
    "My HomuraG3:\n",
    "(3.254315663,\n",
    "6, 62, 620, 6200, 62000, 620000, 6200000, 61, 610, 6100, 61000, 610000,\n",
    "1, 10, 103, 1030, 10300,\n",
    "4, 40, 401, 4010, 403, 4030, 40300, 403000, 402, 4020,\n",
    "5, 51, 511, 5110, 51100, 511000, 5110000, 52, 520, 5201, 52010, 520100, 5201000, 52010000, 5203, 52030, 520300, 5203000',\n",
    "2, 23, 230, 2300, 23001, 230012, 2300120,\n",
    " 1)\n",
    " \n",
    "\n",
    "\n",
    "My Sayaka:\n",
    "\n",
    "(3.080416398,\n",
    " ', , \n",
    " 1, 11, 112, 1120, 11200, 112000, 1120000, 111, 1110, 11100, 111000, 1110000, 11100000, 111000000, 12, 121, 1210, 12100, 121000, 1210000, 122, 1220, 12200, 122000, \n",
    " 2, 22, 21, 211, 2111, 21110, 211100, 2111000, 21110000, 2112, 21120, 212, 2120, 21200, 212000, 2120000, 21200000, \n",
    " 3, 31, 310, 3100, 32, 322, 3220, 32200, 322000, 3220000, \n",
    " 4, 42, 422, 41, 410, 4100, 41000, 410000, 4100000',\n",
    " 1)\n",
    " \n",
    " \n",
    "uncertained: (from old version)\n",
    "\n",
    "\n",
    "My Homura Glass2: 4,  4,  8,  8, 10,  7\n",
    "1 (0.063097892, ', , 1, 10, 101, 1010, 10100, 102')\n",
    "2 (0.016822634, ', , 2, 23, 230, 2300, 23001, 230012, 2300120')\n",
    "3 (0.049430203, ', , 3, 31, 310, 3100')\n",
    "4 (0.056259655, ', , 4, 40, 403, 4030, 40300, 403000, 402, 4020')\n",
    "5 (0.108498016, ', , 5, 51, 512, 5120, 511, 5110, 51100, 511000, 5110000, 52, 520, 5201, 5202, 52020, 520200, 5202000')\n",
    "6 (0.103726234, ', , 6, 61, 610, 6100, 61000, 610000, 6100000, 62, 620, 6200, 62000, 620000')\n",
    "\n",
    "\n",
    "My Homura Glass: 3,  6,  3,  8, 10, 12\n",
    "1 0.067570727, ', , 1, 10, 102'\n",
    "2 (0.045710023, ', , 2, 23, 230, 2300, 23001, 230012, 2300120, 23002, 230020, 2300200, 23002000')\n",
    "3 (0.04688377, ', , 3, 31, 310')\n",
    "4 (0.073082289, ', , 4, 40, 403, 4030, 40300, 403000, 402, 4020, 40200, 402000')\n",
    "5 (0.09554173600000002, ', , 5, 51, 511, 5110, 51100, 511000, 5110000, 52, 520, 5201, 5202, 52020, 520200, 5202000')\n",
    "6 (0.14263226, ', , 6, 61, 610, 6100, 61000, 610000, 6100000, 62, 620, 6200, 62000, 620000') (active all)\n",
    "\n",
    "\n",
    "My Iroha: 9, 8, 3, 9, 9, 7\n",
    "1 (0.070781878, ', , 1, 10, 101, 1010, 10100, 101000, 1010000, 102, 1020')\n",
    "2 (0.059969647,', , 2, 21, 210, 2101, 21010, 23, 230, 2300, 23002, 230020, 2300200, 23002000')\n",
    "3 (0.022994264, ', , 3, 31, 310')\n",
    "4 (0.064607266, ', , 4, 40, 403, 4030, 40300, 403000, 402, 4020, 40200, 402000, 4020000') (active all)\n",
    "5 (1.062347081, ', , 5, 52, 520, 5202, 52020, 520200, 5202000, 51, 512, 5120, 511, 5110, 51100, 511000, 5110000')\n",
    "6 (0.046014549, ', , 6, 61, 610, 6100, 61000, 610000, 6100000')"
   ]
  },
  {
   "cell_type": "markdown",
   "metadata": {},
   "source": [
    "Use below to do some random and statistic: 4 Branches and 20 points, need 4 min. "
   ]
  },
  {
   "cell_type": "code",
   "execution_count": 83,
   "metadata": {},
   "outputs": [],
   "source": [
    "Faster=np.array([range(1,5),[25, 25, 25, 25]])"
   ]
  },
  {
   "cell_type": "code",
   "execution_count": 84,
   "metadata": {},
   "outputs": [],
   "source": [
    "Dic={}"
   ]
  },
  {
   "cell_type": "code",
   "execution_count": 85,
   "metadata": {},
   "outputs": [
    {
     "name": "stdout",
     "output_type": "stream",
     "text": [
      "Dictionary of branch 1 in point 1 finishes uses 0.0 sec.\n",
      "\n",
      "Dictionary of branch 1 in point 2 finishes uses 0.0 sec.\n",
      "\n",
      "Dictionary of branch 1 in point 3 finishes uses 0.0 sec.\n",
      "\n",
      "Dictionary of branch 1 in point 4 finishes uses 0.0 sec.\n",
      "\n",
      "Dictionary of branch 1 in point 5 finishes uses 0.0 sec.\n",
      "\n",
      "Dictionary of branch 1 in point 6 finishes uses 0.0 sec.\n",
      "\n",
      "Dictionary of branch 1 in point 7 finishes uses 0.0 sec.\n",
      "\n",
      "Dictionary of branch 1 in point 8 finishes uses 0.0 sec.\n",
      "\n",
      "Dictionary of branch 1 in point 9 finishes uses 0.0 sec.\n",
      "\n",
      "Dictionary of branch 1 in point 10 finishes uses 0.0 sec.\n",
      "\n",
      "Dictionary of branch 1 in point 11 finishes uses 0.0 sec.\n",
      "\n",
      "Dictionary of branch 1 in point 12 finishes uses 0.0 sec.\n",
      "\n",
      "Dictionary of branch 1 in point 13 finishes uses 0.0 sec.\n",
      "\n",
      "Dictionary of branch 1 in point 14 finishes uses 0.0 sec.\n",
      "\n",
      "Dictionary of branch 1 in point 15 finishes uses 0.0 sec.\n",
      "\n",
      "Dictionary of branch 1 in point 16 finishes uses 0.0 sec.\n",
      "\n",
      "Dictionary of branch 1 in point 17 finishes uses 0.010374069213867188 sec.\n",
      "\n",
      "Dictionary of branch 1 in point 18 finishes uses 0.0003864765167236328 sec.\n",
      "\n",
      "Dictionary of branch 1 in point 19 finishes uses 0.0 sec.\n",
      "\n",
      "Dictionary of branch 1 in point 20 finishes uses 0.0 sec.\n",
      "\n",
      "Dictionary of branch 1 in point 21 finishes uses 0.0 sec.\n",
      "\n",
      "Dictionary of branch 1 in point 22 finishes uses 0.0 sec.\n",
      "\n",
      "Dictionary of branch 1 in point 23 finishes uses 0.0 sec.\n",
      "\n",
      "Dictionary of branch 1 in point 24 finishes uses 0.0 sec.\n",
      "\n",
      "Dictionary of branch 1 in point 25 finishes uses 0.0 sec.\n",
      "\n",
      "Dictionary of branch 2 in point 1 finishes uses 0.0 sec.\n",
      "\n",
      "Dictionary of branch 2 in point 2 finishes uses 0.0 sec.\n",
      "\n",
      "Dictionary of branch 2 in point 3 finishes uses 0.0 sec.\n",
      "\n",
      "Dictionary of branch 2 in point 4 finishes uses 0.0 sec.\n",
      "\n",
      "Dictionary of branch 2 in point 5 finishes uses 0.0 sec.\n",
      "\n",
      "Dictionary of branch 2 in point 6 finishes uses 0.0 sec.\n",
      "\n",
      "Dictionary of branch 2 in point 7 finishes uses 0.0 sec.\n",
      "\n",
      "Dictionary of branch 2 in point 8 finishes uses 0.0 sec.\n",
      "\n",
      "Dictionary of branch 2 in point 9 finishes uses 0.0 sec.\n",
      "\n",
      "Dictionary of branch 2 in point 10 finishes uses 0.0 sec.\n",
      "\n",
      "Dictionary of branch 2 in point 11 finishes uses 0.0 sec.\n",
      "\n",
      "Dictionary of branch 2 in point 12 finishes uses 0.0 sec.\n",
      "\n",
      "Dictionary of branch 2 in point 13 finishes uses 0.0 sec.\n",
      "\n",
      "Dictionary of branch 2 in point 14 finishes uses 0.0 sec.\n",
      "\n",
      "Dictionary of branch 2 in point 15 finishes uses 0.0 sec.\n",
      "\n",
      "Dictionary of branch 2 in point 16 finishes uses 0.0 sec.\n",
      "\n",
      "Dictionary of branch 2 in point 17 finishes uses 0.0 sec.\n",
      "\n",
      "Dictionary of branch 2 in point 18 finishes uses 0.0 sec.\n",
      "\n",
      "Dictionary of branch 2 in point 19 finishes uses 0.0 sec.\n",
      "\n",
      "Dictionary of branch 2 in point 20 finishes uses 0.0 sec.\n",
      "\n",
      "Dictionary of branch 2 in point 21 finishes uses 0.0 sec.\n",
      "\n",
      "Dictionary of branch 2 in point 22 finishes uses 0.0 sec.\n",
      "\n",
      "Dictionary of branch 2 in point 23 finishes uses 0.0 sec.\n",
      "\n",
      "Dictionary of branch 2 in point 24 finishes uses 0.0 sec.\n",
      "\n",
      "Dictionary of branch 2 in point 25 finishes uses 0.0 sec.\n",
      "\n",
      "Dictionary of branch 3 in point 1 finishes uses 0.0 sec.\n",
      "\n",
      "Dictionary of branch 3 in point 2 finishes uses 0.0 sec.\n",
      "\n",
      "Dictionary of branch 3 in point 3 finishes uses 0.0 sec.\n",
      "\n",
      "Dictionary of branch 3 in point 4 finishes uses 0.0 sec.\n",
      "\n",
      "Dictionary of branch 3 in point 5 finishes uses 0.0 sec.\n",
      "\n",
      "Dictionary of branch 3 in point 6 finishes uses 0.0 sec.\n",
      "\n",
      "Dictionary of branch 3 in point 7 finishes uses 0.0 sec.\n",
      "\n",
      "Dictionary of branch 3 in point 8 finishes uses 0.0 sec.\n",
      "\n",
      "Dictionary of branch 3 in point 9 finishes uses 0.0 sec.\n",
      "\n",
      "Dictionary of branch 3 in point 10 finishes uses 0.0005006790161132812 sec.\n",
      "\n",
      "Dictionary of branch 3 in point 11 finishes uses 0.0 sec.\n",
      "\n",
      "Dictionary of branch 3 in point 12 finishes uses 0.0 sec.\n",
      "\n",
      "Dictionary of branch 3 in point 13 finishes uses 0.0 sec.\n",
      "\n",
      "Dictionary of branch 3 in point 14 finishes uses 0.0 sec.\n",
      "\n",
      "Dictionary of branch 3 in point 15 finishes uses 0.0 sec.\n",
      "\n",
      "Dictionary of branch 3 in point 16 finishes uses 0.0 sec.\n",
      "\n",
      "Dictionary of branch 3 in point 17 finishes uses 0.0 sec.\n",
      "\n",
      "Dictionary of branch 3 in point 18 finishes uses 0.0 sec.\n",
      "\n",
      "Dictionary of branch 3 in point 19 finishes uses 0.0 sec.\n",
      "\n",
      "Dictionary of branch 3 in point 20 finishes uses 0.0 sec.\n",
      "\n",
      "Dictionary of branch 3 in point 21 finishes uses 0.0 sec.\n",
      "\n",
      "Dictionary of branch 3 in point 22 finishes uses 0.0 sec.\n",
      "\n",
      "Dictionary of branch 3 in point 23 finishes uses 0.0 sec.\n",
      "\n",
      "Dictionary of branch 3 in point 24 finishes uses 0.0 sec.\n",
      "\n",
      "Dictionary of branch 3 in point 25 finishes uses 0.0 sec.\n",
      "\n",
      "Dictionary of branch 4 in point 1 finishes uses 0.0 sec.\n",
      "\n",
      "Dictionary of branch 4 in point 2 finishes uses 0.0 sec.\n",
      "\n",
      "Dictionary of branch 4 in point 3 finishes uses 0.0 sec.\n",
      "\n",
      "Dictionary of branch 4 in point 4 finishes uses 0.0 sec.\n",
      "\n",
      "Dictionary of branch 4 in point 5 finishes uses 0.0 sec.\n",
      "\n",
      "Dictionary of branch 4 in point 6 finishes uses 0.0 sec.\n",
      "\n",
      "Dictionary of branch 4 in point 7 finishes uses 0.0 sec.\n",
      "\n",
      "Dictionary of branch 4 in point 8 finishes uses 0.0 sec.\n",
      "\n",
      "Dictionary of branch 4 in point 9 finishes uses 0.0 sec.\n",
      "\n",
      "Dictionary of branch 4 in point 10 finishes uses 0.0 sec.\n",
      "\n",
      "Dictionary of branch 4 in point 11 finishes uses 0.0 sec.\n",
      "\n",
      "Dictionary of branch 4 in point 12 finishes uses 0.0 sec.\n",
      "\n",
      "Dictionary of branch 4 in point 13 finishes uses 0.0 sec.\n",
      "\n",
      "Dictionary of branch 4 in point 14 finishes uses 0.0 sec.\n",
      "\n",
      "Dictionary of branch 4 in point 15 finishes uses 0.0 sec.\n",
      "\n",
      "Dictionary of branch 4 in point 16 finishes uses 0.008822441101074219 sec.\n",
      "\n",
      "Dictionary of branch 4 in point 17 finishes uses 0.0 sec.\n",
      "\n",
      "Dictionary of branch 4 in point 18 finishes uses 0.0 sec.\n",
      "\n",
      "Dictionary of branch 4 in point 19 finishes uses 0.0 sec.\n",
      "\n",
      "Dictionary of branch 4 in point 20 finishes uses 0.0 sec.\n",
      "\n",
      "Dictionary of branch 4 in point 21 finishes uses 0.0 sec.\n",
      "\n",
      "Dictionary of branch 4 in point 22 finishes uses 0.0 sec.\n",
      "\n",
      "Dictionary of branch 4 in point 23 finishes uses 0.0 sec.\n",
      "\n",
      "Dictionary of branch 4 in point 24 finishes uses 0.0 sec.\n",
      "\n",
      "Dictionary of branch 4 in point 25 finishes uses 0.0 sec.\n",
      "\n"
     ]
    }
   ],
   "source": [
    "for i in Faster[0]:\n",
    "    Dic[i]=[]\n",
    "    data2=[]\n",
    "    for i3 in data:\n",
    "        if i3[0][0]==str(i):\n",
    "            data2.append(i3)\n",
    "    for i2 in range(1,Faster[1][i-1]+1):\n",
    "        t=time.time()\n",
    "        Dic[i].append(SB(np.array(data2),'',i2,9999))\n",
    "        print('Dictionary of branch '+str(i)+' in point '+str(i2)+' finishes uses '+str(time.time()-t)+' sec.\\n')"
   ]
  },
  {
   "cell_type": "code",
   "execution_count": 86,
   "metadata": {},
   "outputs": [
    {
     "data": {
      "text/plain": [
       "{1: [(0.0108501, ', , 1', 0),\n",
       "  (0.0217002, ', , 1, 11', 0),\n",
       "  (0.034130412, ', , 1, 11, 111', 0),\n",
       "  (0.174149373, ', , 1, 11, 111, 1110', 0),\n",
       "  (0.187422311, ', , 1, 11, 111, 1110, 11100', 0),\n",
       "  (0.206594332, ', , 1, 11, 111, 1110, 11100, 111000', 0),\n",
       "  (0.22060465499999998, ', , 1, 11, 111, 1110, 11100, 111000, 1110000', 0),\n",
       "  (0.26086919, ', , 1, 11, 111, 1110, 12, 121, 1210, 12100', 0),\n",
       "  (0.27487951299999996,\n",
       "   ', , 1, 11, 111, 1110, 12, 121, 1210, 12100, 121000',\n",
       "   0),\n",
       "  (0.29405153399999995,\n",
       "   ', , 1, 11, 111, 1110, 12, 121, 1210, 12100, 121000, 1210000',\n",
       "   0),\n",
       "  (0.307324472,\n",
       "   ', , 1, 11, 111, 1110, 11100, 12, 121, 1210, 12100, 121000, 1210000',\n",
       "   0),\n",
       "  (0.32649649299999994,\n",
       "   ', , 1, 11, 111, 1110, 11100, 111000, 12, 121, 1210, 12100, 121000, 1210000',\n",
       "   0),\n",
       "  (0.340506816,\n",
       "   ', , 1, 11, 111, 1110, 11100, 111000, 1110000, 12, 121, 1210, 12100, 121000, 1210000',\n",
       "   0),\n",
       "  (0.35230498299999996,\n",
       "   ', , 1, 11, 111, 1110, 11100, 111000, 1110000, 12, 121, 1210, 12100, 121000, 1210000, 122',\n",
       "   0),\n",
       "  (0.366235375,\n",
       "   ', , 1, 11, 111, 1110, 11100, 111000, 1110000, 11100000, 111000000, 12, 121, 1210, 12100, 121000, 1210000',\n",
       "   0),\n",
       "  (0.37803354199999994,\n",
       "   ', , 1, 11, 111, 1110, 11100, 111000, 1110000, 11100000, 111000000, 12, 121, 1210, 12100, 121000, 1210000, 122',\n",
       "   0),\n",
       "  (0.39060087699999996,\n",
       "   ', , 1, 11, 111, 1110, 11100, 111000, 1110000, 12, 121, 1210, 12100, 121000, 1210000, 122, 1220, 12200, 122000',\n",
       "   0),\n",
       "  (0.40231911299999995,\n",
       "   ', , 1, 11, 111, 1110, 11100, 111000, 1110000, 11100000, 12, 121, 1210, 12100, 121000, 1210000, 122, 1220, 12200, 122000',\n",
       "   0),\n",
       "  (0.41632943599999994,\n",
       "   ', , 1, 11, 111, 1110, 11100, 111000, 1110000, 11100000, 111000000, 12, 121, 1210, 12100, 121000, 1210000, 122, 1220, 12200, 122000',\n",
       "   0),\n",
       "  (0.426072688,\n",
       "   ', , 1, 11, 112, 111, 1110, 11100, 111000, 1110000, 11100000, 111000000, 12, 121, 1210, 12100, 121000, 1210000, 122, 1220, 12200, 122000',\n",
       "   0),\n",
       "  (0.4385028999999999,\n",
       "   ', , 1, 11, 112, 1120, 111, 1110, 11100, 111000, 1110000, 11100000, 111000000, 12, 121, 1210, 12100, 121000, 1210000, 122, 1220, 12200, 122000',\n",
       "   0),\n",
       "  (0.448599938,\n",
       "   ', , 1, 11, 112, 1120, 11200, 112000, 1120000, 111, 1110, 11100, 111000, 1110000, 12, 121, 1210, 12100, 121000, 1210000, 122, 1220, 12200, 122000',\n",
       "   0),\n",
       "  (0.46031817399999997,\n",
       "   ', , 1, 11, 112, 1120, 11200, 112000, 111, 1110, 11100, 111000, 1110000, 11100000, 111000000, 12, 121, 1210, 12100, 121000, 1210000, 122, 1220, 12200, 122000',\n",
       "   0),\n",
       "  (0.4743284969999999,\n",
       "   ', , 1, 11, 112, 1120, 11200, 112000, 1120000, 111, 1110, 11100, 111000, 1110000, 11100000, 111000000, 12, 121, 1210, 12100, 121000, 1210000, 122, 1220, 12200, 122000',\n",
       "   0),\n",
       "  (0.4860467329999999,\n",
       "   ', , 1, 11, 112, 1120, 11200, 112000, 1120000, 11200000, 111, 1110, 11100, 111000, 1110000, 11100000, 111000000, 12, 121, 1210, 12100, 121000, 1210000, 122, 1220, 12200, 122000',\n",
       "   0)],\n",
       " 2: [(0.007073054, ', , 2', 0),\n",
       "  (0.076507068, ', , 2, 22', 0),\n",
       "  (0.128582578, ', , 2, 22, 21', 0),\n",
       "  (0.14101279, ', , 2, 22, 21, 211', 0),\n",
       "  (0.20101278999999997, ', , 2, 22, 21, 211, 2112', 0),\n",
       "  (0.21502311300000002, ', , 2, 22, 21, 211, 2112, 21120', 0),\n",
       "  (0.227453325, ', , 2, 22, 21, 211, 2111, 2112, 21120', 0),\n",
       "  (0.237986571, ', , 2, 22, 220, 21, 211, 2111, 2112, 21120', 0),\n",
       "  (0.250518524, ', , 2, 22, 21, 211, 2111, 21110, 211100, 2112, 21120', 0),\n",
       "  (0.26223676,\n",
       "   ', , 2, 22, 21, 211, 2111, 21110, 211100, 2111000, 2112, 21120',\n",
       "   0),\n",
       "  (0.274703185,\n",
       "   ', , 2, 22, 21, 211, 2112, 21120, 212, 2120, 21200, 212000, 2120000',\n",
       "   0),\n",
       "  (0.287133397,\n",
       "   ', , 2, 22, 21, 211, 2111, 2112, 21120, 212, 2120, 21200, 212000, 2120000',\n",
       "   0),\n",
       "  (0.298851633,\n",
       "   ', , 2, 22, 21, 211, 2111, 2112, 21120, 212, 2120, 21200, 212000, 2120000, 21200000',\n",
       "   0),\n",
       "  (0.310198596,\n",
       "   ', , 2, 22, 21, 211, 2111, 21110, 211100, 2112, 21120, 212, 2120, 21200, 212000, 2120000',\n",
       "   0),\n",
       "  (0.32191683200000004,\n",
       "   ', , 2, 22, 21, 211, 2111, 21110, 211100, 2111000, 2112, 21120, 212, 2120, 21200, 212000, 2120000',\n",
       "   0),\n",
       "  (0.334286134,\n",
       "   ', , 2, 22, 21, 211, 2111, 21110, 211100, 2111000, 21110000, 2112, 21120, 212, 2120, 21200, 212000, 2120000',\n",
       "   0),\n",
       "  (0.34600437,\n",
       "   ', , 2, 22, 21, 211, 2111, 21110, 211100, 2111000, 21110000, 2112, 21120, 212, 2120, 21200, 212000, 2120000, 21200000',\n",
       "   0),\n",
       "  (0.35724959200000006,\n",
       "   ', , 2, 22, 220, 2200, 21, 211, 2111, 21110, 211100, 2111000, 21110000, 2112, 21120, 212, 2120, 21200, 212000, 2120000',\n",
       "   0),\n",
       "  (0.36896782800000005,\n",
       "   ', , 2, 22, 220, 2200, 21, 211, 2111, 21110, 211100, 2111000, 21110000, 2112, 21120, 212, 2120, 21200, 212000, 2120000, 21200000',\n",
       "   0),\n",
       "  (0.37914678399999996,\n",
       "   ', , 2, 22, 21, 211, 2111, 21110, 211100, 2111000, 21110000, 2112, 21120, 211200, 2112000, 21120000, 212, 2120, 21200, 212000, 2120000, 21200000',\n",
       "   0),\n",
       "  (0.391319122,\n",
       "   ', , 2, 22, 220, 2200, 22000, 220000, 2200000, 21, 211, 2111, 21110, 211100, 2111000, 21110000, 2112, 21120, 212, 2120, 21200, 212000, 2120000',\n",
       "   0),\n",
       "  (0.403037358,\n",
       "   ', , 2, 22, 220, 2200, 22000, 220000, 2200000, 21, 211, 2111, 21110, 211100, 2111000, 21110000, 2112, 21120, 212, 2120, 21200, 212000, 2120000, 21200000',\n",
       "   0),\n",
       "  (0.412092234,\n",
       "   ', , 2, 22, 220, 2200, 22000, 220000, 2200000, 21, 211, 2111, 21110, 211100, 2112, 21120, 211200, 2112000, 21120000, 212, 2120, 21200, 212000, 2120000, 21200000',\n",
       "   0),\n",
       "  (0.42446153600000003,\n",
       "   ', , 2, 22, 220, 2200, 22000, 220000, 2200000, 21, 211, 2111, 21110, 211100, 2111000, 21110000, 2112, 21120, 211200, 2112000, 21120000, 212, 2120, 21200, 212000, 2120000',\n",
       "   0),\n",
       "  (0.43617977199999997,\n",
       "   ', , 2, 22, 220, 2200, 22000, 220000, 2200000, 21, 211, 2111, 21110, 211100, 2111000, 21110000, 2112, 21120, 211200, 2112000, 21120000, 212, 2120, 21200, 212000, 2120000, 21200000',\n",
       "   0)],\n",
       " 3: [(0.009084924, ', , 3', 0),\n",
       "  (0.018828176000000002, ', , 3, 32', 0),\n",
       "  (0.027913100000000003, ', , 3, 31, 32', 0),\n",
       "  (1.0279131, ', , 3, 31, 310, 3100', 0),\n",
       "  (1.037656352, ', , 3, 31, 310, 3100, 32', 0),\n",
       "  (1.046198688, ', , 3, 31, 310, 3100, 31000, 32', 0),\n",
       "  (1.0624951699999998, ', , 3, 31, 310, 3100, 31000, 310000, 3100000', 0),\n",
       "  (1.0722384219999999, ', , 3, 31, 310, 3100, 31000, 310000, 3100000, 32', 0),\n",
       "  (1.080302387, ', , 3, 31, 310, 3100, 31000, 310000, 3100000, 32, 322', 0),\n",
       "  (2.0785813770000003,\n",
       "   ', , 3, 31, 310, 3100, 32, 322, 3220, 32200, 322000, 3220000',\n",
       "   0),\n",
       "  (2.0871237130000004,\n",
       "   ', , 3, 31, 310, 3100, 31000, 32, 322, 3220, 32200, 322000, 3220000',\n",
       "   0),\n",
       "  (2.0961785890000004,\n",
       "   ', , 3, 31, 310, 3100, 31000, 310000, 32, 322, 3220, 32200, 322000, 3220000',\n",
       "   0),\n",
       "  (2.1131634470000003,\n",
       "   ', , 3, 31, 310, 3100, 31000, 310000, 3100000, 32, 322, 3220, 32200, 322000, 3220000',\n",
       "   0),\n",
       "  (2.1207490410000003,\n",
       "   ', , 3, 31, 310, 3100, 31000, 310000, 3100000, 32, 321, 322, 3220, 32200, 322000, 3220000',\n",
       "   0),\n",
       "  (2.1292425530000005,\n",
       "   ', , 3, 31, 310, 3100, 32, 321, 3210, 32102, 321020, 32101, 322, 3220, 32200, 322000, 3220000',\n",
       "   0),\n",
       "  (2.1392822870000003,\n",
       "   ', , 3, 31, 310, 3100, 31000, 310000, 3100000, 32, 321, 3210, 32102, 322, 3220, 32200, 322000, 3220000',\n",
       "   0),\n",
       "  (2.1552822870000004,\n",
       "   ', , 3, 31, 310, 3100, 31000, 310000, 3100000, 32, 321, 3210, 32102, 321020, 322, 3220, 32200, 322000, 3220000',\n",
       "   0),\n",
       "  (2.164025988,\n",
       "   ', , 3, 31, 310, 3100, 32, 321, 3210, 32102, 321020, 3210200, 32102000, 321020000, 3210200000, 322, 3220, 32200, 322000, 3220000',\n",
       "   0),\n",
       "  (2.1810108460000004,\n",
       "   ', , 3, 31, 310, 3100, 32, 321, 3210, 32102, 321020, 3210200, 32102000, 321020000, 3210200000, 32102000000, 322, 3220, 32200, 322000, 3220000',\n",
       "   0),\n",
       "  (2.1895531820000005,\n",
       "   ', , 3, 31, 310, 3100, 32, 321, 3210, 32102, 321020, 3210200, 32102000, 321020000, 3210200000, 32102000000, 32101, 322, 3220, 32200, 322000, 3220000',\n",
       "   0),\n",
       "  (2.1986080580000005,\n",
       "   ', , 3, 31, 310, 3100, 31000, 310000, 32, 321, 3210, 32102, 321020, 3210200, 32102000, 321020000, 3210200000, 32102000000, 322, 3220, 32200, 322000, 3220000',\n",
       "   0),\n",
       "  (2.2155929160000003,\n",
       "   ', , 3, 31, 310, 3100, 31000, 310000, 3100000, 32, 321, 3210, 32102, 321020, 3210200, 32102000, 321020000, 3210200000, 32102000000, 322, 3220, 32200, 322000, 3220000',\n",
       "   0),\n",
       "  (2.2241352520000004,\n",
       "   ', , 3, 31, 310, 3100, 31000, 310000, 3100000, 32, 321, 3210, 32102, 321020, 3210200, 32102000, 321020000, 3210200000, 32102000000, 32101, 322, 3220, 32200, 322000, 3220000',\n",
       "   0),\n",
       "  (2.233190128,\n",
       "   ', , 3, 31, 310, 3100, 31000, 310000, 3100000, 32, 321, 3210, 32102, 321020, 3210200, 32102000, 321020000, 3210200000, 32102000000, 32101, 321010, 322, 3220, 32200, 322000, 3220000',\n",
       "   0),\n",
       "  (2.244908364,\n",
       "   ', , 3, 31, 310, 3100, 31000, 310000, 3100000, 32, 321, 3210, 32102, 321020, 3210200, 32102000, 321020000, 3210200000, 32102000000, 32101, 321010, 3210100, 322, 3220, 32200, 322000, 3220000',\n",
       "   0)],\n",
       " 4: [(0.007073054, ', , 4', 0),\n",
       "  (0.059148564, ', , 4, 42', 0),\n",
       "  (0.071578776, ', , 4, 42, 422', 0),\n",
       "  (0.082734158, ', , 4, 42, 41, 410', 0),\n",
       "  (0.09516437, ', , 4, 42, 422, 41, 410', 0),\n",
       "  (0.143429702, ', , 4, 42, 41, 410, 4100, 41000', 0),\n",
       "  (0.15670264, ', , 4, 42, 41, 410, 4100, 41000, 410000', 0),\n",
       "  (0.169132852, ', , 4, 42, 422, 41, 410, 4100, 41000, 410000', 0),\n",
       "  (0.181502154, ', , 4, 42, 422, 41, 410, 4100, 41000, 410000, 4100000', 0),\n",
       "  (0.19004448999999998,\n",
       "   ', , 4, 42, 422, 4220, 41, 410, 4100, 41000, 410000, 4100000',\n",
       "   0),\n",
       "  (0.20216022,\n",
       "   ', , 4, 42, 422, 4220, 42200, 422000, 4220000, 41, 410, 4100, 41000',\n",
       "   0),\n",
       "  (0.21543315799999999,\n",
       "   ', , 4, 42, 422, 4220, 42200, 422000, 4220000, 41, 410, 4100, 41000, 410000',\n",
       "   0),\n",
       "  (0.22780246,\n",
       "   ', , 4, 42, 422, 4220, 42200, 422000, 4220000, 41, 410, 4100, 41000, 410000, 4100000',\n",
       "   0),\n",
       "  (0.23736367500000002,\n",
       "   ', , 4, 42, 421, 4210, 42101, 421010, 4210100, 422, 41, 410, 4100, 41000, 410000, 4100000',\n",
       "   0),\n",
       "  (0.24842358299999998,\n",
       "   ', , 4, 42, 421, 4210, 42101, 421010, 4210100, 42102, 422, 41, 410, 4100, 41000, 410000, 4100000',\n",
       "   0),\n",
       "  (0.26042887400000003,\n",
       "   ', , 4, 42, 421, 4210, 42101, 421010, 4210100, 42101000, 421010000, 422, 41, 410, 4100, 41000, 410000, 4100000',\n",
       "   0),\n",
       "  (0.271945745,\n",
       "   ', , 4, 42, 421, 4210, 42101, 421010, 422, 4220, 42200, 422000, 4220000, 41, 410, 4100, 41000, 410000, 4100000',\n",
       "   0),\n",
       "  (0.283663981,\n",
       "   ', , 4, 42, 421, 4210, 42101, 421010, 4210100, 422, 4220, 42200, 422000, 4220000, 41, 410, 4100, 41000, 410000, 4100000',\n",
       "   0),\n",
       "  (0.294723889,\n",
       "   ', , 4, 42, 421, 4210, 42101, 421010, 4210100, 42102, 422, 4220, 42200, 422000, 4220000, 41, 410, 4100, 41000, 410000, 4100000',\n",
       "   0),\n",
       "  (0.30672918,\n",
       "   ', , 4, 42, 421, 4210, 42101, 421010, 4210100, 42101000, 421010000, 422, 4220, 42200, 422000, 4220000, 41, 410, 4100, 41000, 410000, 4100000',\n",
       "   0),\n",
       "  (0.317789088,\n",
       "   ', , 4, 42, 421, 4210, 42101, 421010, 4210100, 42101000, 421010000, 42102, 422, 4220, 42200, 422000, 4220000, 41, 410, 4100, 41000, 410000, 4100000',\n",
       "   0),\n",
       "  (0.328848996,\n",
       "   ', , 4, 42, 421, 4210, 42101, 421010, 4210100, 42101000, 421010000, 42102, 421020, 422, 4220, 42200, 422000, 4220000, 41, 410, 4100, 41000, 410000, 4100000',\n",
       "   0),\n",
       "  (0.340848996,\n",
       "   ', , 4, 42, 421, 4210, 42101, 421010, 4210100, 42101000, 421010000, 42102, 421020, 4210200, 422, 4220, 42200, 422000, 4220000, 41, 410, 4100, 41000, 410000, 4100000',\n",
       "   0),\n",
       "  (0.349903872,\n",
       "   ', , 4, 42, 421, 4210, 42101, 421010, 4210100, 42101000, 421010000, 42102, 421020, 4210200, 42102000, 422, 4220, 42200, 422000, 4220000, 41, 410, 4100, 41000, 410000, 4100000',\n",
       "   0),\n",
       "  (0.36162210800000005,\n",
       "   ', , 4, 42, 421, 4210, 42101, 421010, 4210100, 42101000, 421010000, 42102, 421020, 4210200, 42102000, 421020000, 422, 4220, 42200, 422000, 4220000, 41, 410, 4100, 41000, 410000, 4100000',\n",
       "   0)]}"
      ]
     },
     "execution_count": 86,
     "metadata": {},
     "output_type": "execute_result"
    }
   ],
   "source": [
    "Dic"
   ]
  },
  {
   "cell_type": "code",
   "execution_count": 87,
   "metadata": {},
   "outputs": [
    {
     "data": {
      "text/plain": [
       "array([25, 25, 25, 25])"
      ]
     },
     "execution_count": 87,
     "metadata": {},
     "output_type": "execute_result"
    }
   ],
   "source": [
    "Faster[1]"
   ]
  },
  {
   "cell_type": "code",
   "execution_count": 91,
   "metadata": {},
   "outputs": [],
   "source": [
    "BG=np.array([sum(Faster[1][:i]) for i in range(4)])#background"
   ]
  },
  {
   "cell_type": "code",
   "execution_count": 92,
   "metadata": {},
   "outputs": [
    {
     "data": {
      "text/plain": [
       "array([ 0, 25, 50, 75])"
      ]
     },
     "execution_count": 92,
     "metadata": {},
     "output_type": "execute_result"
    }
   ],
   "source": [
    "BG"
   ]
  },
  {
   "cell_type": "code",
   "execution_count": 93,
   "metadata": {},
   "outputs": [],
   "source": [
    "for i in range(1,5):\n",
    "    Dic[i].append([0])#a little skill"
   ]
  },
  {
   "cell_type": "code",
   "execution_count": 94,
   "metadata": {},
   "outputs": [],
   "source": [
    "def R1():#random 1\n",
    "    a=random.random()*100#the number here is the last of BG + the last of faster[1]\n",
    "    return sum((a-BG)>0)"
   ]
  },
  {
   "cell_type": "code",
   "execution_count": 98,
   "metadata": {},
   "outputs": [],
   "source": [
    "def R2():\n",
    "    a=[]\n",
    "    for i in range(60):#the number here is the point avaliable exluding 9999 (total minus 9999)\n",
    "        a.append(R1())\n",
    "    a=np.array(a)\n",
    "    if sum(a==1)>25 or sum(a==2)>25 or sum(a==3)>25 or sum(a==4)>25:# or sum(a==5)>16 or sum(a==6)>12:\n",
    "        return -9999,[1,1,1,1]\n",
    "    CL=[sum(a==1), sum(a==2), sum(a==3),sum(a==4)]#check list\n",
    "    W=0\n",
    "    for i2 in range(1,5):\n",
    "        W += Dic[i2][CL[i2-1]-1][0]\n",
    "    return W,CL"
   ]
  },
  {
   "cell_type": "markdown",
   "metadata": {},
   "source": [
    "# Need 15 min"
   ]
  },
  {
   "cell_type": "code",
   "execution_count": 99,
   "metadata": {},
   "outputs": [
    {
     "name": "stdout",
     "output_type": "stream",
     "text": [
      "182 ms ± 19 ms per loop (mean ± std. dev. of 7 runs, 1 loop each)\n"
     ]
    }
   ],
   "source": [
    "%timeit for i in range(100): R2()"
   ]
  },
  {
   "cell_type": "code",
   "execution_count": 34,
   "metadata": {},
   "outputs": [],
   "source": [
    "WL=[]\n",
    "CLL=[]\n",
    "for i in range(700000): \n",
    "    a,b=R2()\n",
    "    WL.append(a)\n",
    "    CLL.append(b)"
   ]
  },
  {
   "cell_type": "code",
   "execution_count": 35,
   "metadata": {},
   "outputs": [
    {
     "data": {
      "text/plain": [
       "0.39783463399999996"
      ]
     },
     "execution_count": 35,
     "metadata": {},
     "output_type": "execute_result"
    }
   ],
   "source": [
    "max(WL)"
   ]
  },
  {
   "cell_type": "code",
   "execution_count": 36,
   "metadata": {},
   "outputs": [
    {
     "data": {
      "text/plain": [
       "array([[ 4,  2,  2,  6, 10,  7]])"
      ]
     },
     "execution_count": 36,
     "metadata": {},
     "output_type": "execute_result"
    }
   ],
   "source": [
    "WL=np.array(WL)\n",
    "CLL=np.array(CLL)\n",
    "\n",
    "CLL[WL==max(WL)]"
   ]
  },
  {
   "cell_type": "code",
   "execution_count": 24,
   "metadata": {},
   "outputs": [
    {
     "data": {
      "text/plain": [
       "500000"
      ]
     },
     "execution_count": 24,
     "metadata": {},
     "output_type": "execute_result"
    }
   ],
   "source": [
    "len(WL)"
   ]
  },
  {
   "cell_type": "code",
   "execution_count": 25,
   "metadata": {},
   "outputs": [],
   "source": [
    "WL2=WL[WL!=-9999]"
   ]
  },
  {
   "cell_type": "code",
   "execution_count": 130,
   "metadata": {},
   "outputs": [
    {
     "data": {
      "text/plain": [
       "1891"
      ]
     },
     "execution_count": 130,
     "metadata": {},
     "output_type": "execute_result"
    }
   ],
   "source": [
    "len(DP(60,3))"
   ]
  },
  {
   "cell_type": "code",
   "execution_count": 27,
   "metadata": {},
   "outputs": [
    {
     "data": {
      "text/plain": [
       "Text(0, 0.5, 'Weight')"
      ]
     },
     "execution_count": 27,
     "metadata": {},
     "output_type": "execute_result"
    },
    {
     "data": {
      "image/png": "[encoded data removed]",
      "text/plain": [
       "<Figure size 432x288 with 1 Axes>"
      ]
     },
     "metadata": {
      "needs_background": "light"
     },
     "output_type": "display_data"
    }
   ],
   "source": [
    "import matplotlib.pyplot as plt\n",
    "\n",
    "plt.plot(np.sort(WL2,-1)[30:])\n",
    "plt.title('Homura Glass: Mental Strength Efficient')\n",
    "plt.xlabel('Random Times')\n",
    "plt.ylabel('Weight')"
   ]
  },
  {
   "cell_type": "code",
   "execution_count": 220,
   "metadata": {},
   "outputs": [],
   "source": [
    "a=', , 1, 16, 162, 1620, 16200, 162000, 1620000, 16200000, 161, 1610, 16100, 161000, 1610000, 2, 21, 210, 2103, 21030, 210300, 24, 240, 2401, 24010, 2403, 24030, 240300, 2403000, 2402, 24020, 3, 32, 323, 3230, 32300, 323001, 3230012, 32300120, 35, 351, 3511, 35110, 351100, 3511000, 35110000, 352, 3520, 35201, 352010, 3520100, 35201000, 352010000, 35203, 352030, 3520300, 35203000'"
   ]
  },
  {
   "cell_type": "code",
   "execution_count": 121,
   "metadata": {},
   "outputs": [],
   "source": [
    "np.save('mgBMt.txt',BMt)"
   ]
  },
  {
   "cell_type": "code",
   "execution_count": 223,
   "metadata": {},
   "outputs": [
    {
     "data": {
      "text/plain": [
       "', , , 6, 62, 620, 6200, 62000, 620000, 6200000, 61, 610, 6100, 61000, 610000, , 1, 10, 103, 1030, 10300, 4, 40, 401, 4010, 403, 4030, 40300, 403000, 402, 4020, , 2, 23, 230, 2300, 23001, 230012, 2300120, 5, 51, 511, 5110, 51100, 511000, 5110000, 52, 520, 5201, 52010, 520100, 5201000, 52010000, 5203, 52030, 520300, 5203000'"
      ]
     },
     "execution_count": 223,
     "metadata": {},
     "output_type": "execute_result"
    }
   ],
   "source": [
    "a.replace(' 1',' ').replace(' 2',' ').replace(' 3',' ')"
   ]
  },
  {
   "cell_type": "code",
   "execution_count": null,
   "metadata": {},
   "outputs": [],
   "source": []
  }
 ],
 "metadata": {
  "kernelspec": {
   "display_name": "Python 3",
   "language": "python",
   "name": "python3"
  },
  "language_info": {
   "codemirror_mode": {
    "name": "ipython",
    "version": 3
   },
   "file_extension": ".py",
   "mimetype": "text/x-python",
   "name": "python",
   "nbconvert_exporter": "python",
   "pygments_lexer": "ipython3",
   "version": "3.7.9"
  }
 },
 "nbformat": 4,
 "nbformat_minor": 4
}
