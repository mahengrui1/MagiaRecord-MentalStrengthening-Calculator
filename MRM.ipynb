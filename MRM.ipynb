{
 "cells": [
  {
   "cell_type": "markdown",
   "metadata": {},
   "source": [
    "20201215\n",
    "solve magia record mental weight"
   ]
  },
  {
   "cell_type": "code",
   "execution_count": 1,
   "metadata": {},
   "outputs": [],
   "source": [
    "import numpy as np\n",
    "import time\n",
    "#from itertools import combinations, permutations\n",
    "import random"
   ]
  },
  {
   "cell_type": "code",
   "execution_count": 2,
   "metadata": {},
   "outputs": [],
   "source": [
    "LL = lambda x: [[i] for i in x]#list the list"
   ]
  },
  {
   "cell_type": "code",
   "execution_count": 3,
   "metadata": {},
   "outputs": [],
   "source": [
    "def II(result,iil,Nbr):\n",
    "    '''\n",
    "    iteration rapid increase\n",
    "    iil: II List; Nbr: length of result\n",
    "    To call it, II([[]],LL(range(1,point+2)),Nbr-1)\n",
    "    '''\n",
    "    result2=[]\n",
    "    for x in iil:\n",
    "        #print(result,iil)\n",
    "        result2 += [subset + x for subset in result]\n",
    "    if len(result2[0])==Nbr: return result2\n",
    "    #collecting\n",
    "    ALL=[]\n",
    "    for the in result2:\n",
    "        a=II([the],LL(range(max(the),iil[-1][0]+1)),Nbr)\n",
    "        for a2 in a:\n",
    "            ALL.append(a2)\n",
    "    return ALL"
   ]
  },
  {
   "cell_type": "code",
   "execution_count": 4,
   "metadata": {},
   "outputs": [],
   "source": [
    "def DP(point,Nbr):\n",
    "    '''\n",
    "    math, distribute points to diff Nbr subplots, from 0 to max. Nbr >=2, point >=2\n",
    "    rep: re-calculate parameters.\n",
    "    '''\n",
    "    c=[]\n",
    "    for i2 in II([[]],LL(range(1,point+2)),Nbr-1):\n",
    "        d=[i2[0]-1]+list(np.diff(i2))+[point-i2[-1]+1]\n",
    "        #f=d.copy()\n",
    "        #f.reverse()\n",
    "        c.append(d)\n",
    "        #c.append(f)\n",
    "        #temp=[]#remove repeated. https://blog.csdn.net/Jerry_1126/article/details/79843751\n",
    "        #[temp.append(i) for i in c if not i in temp]\n",
    "    return c#temp"
   ]
  },
  {
   "cell_type": "code",
   "execution_count": 5,
   "metadata": {},
   "outputs": [],
   "source": [
    "data=np.loadtxt('magiarecordmental.csv','str',delimiter=',')"
   ]
  },
  {
   "cell_type": "code",
   "execution_count": 6,
   "metadata": {},
   "outputs": [],
   "source": [
    "#data"
   ]
  },
  {
   "cell_type": "code",
   "execution_count": 7,
   "metadata": {},
   "outputs": [],
   "source": [
    "data[0,0]=data[0,0][1:]"
   ]
  },
  {
   "cell_type": "code",
   "execution_count": 8,
   "metadata": {},
   "outputs": [],
   "source": [
    "#data"
   ]
  },
  {
   "cell_type": "code",
   "execution_count": 9,
   "metadata": {},
   "outputs": [],
   "source": [
    "def SB(data,Vl,point,weights,skipNbr=9999):\n",
    "    '''\n",
    "    data,verify letter (after check this plot), point unused (before check this plot), \n",
    "    weights gained from this point (after check this plot), comments added (from this plot)\n",
    "    example: SB(data,'1','15',300,', the plot name is 1')\n",
    "    skipNbr: if a weights is 9999, then weights = 0 and dont use point\n",
    "    '''\n",
    "    #print(weights)\n",
    "    if point==0: return 0, ''\n",
    "    point -= 1\n",
    "    if weights==skipNbr:#skip this plot\n",
    "        point += 1\n",
    "        weights = 0\n",
    "    Vls=data[:,0]#verify letter list\n",
    "    PSBL=[]#search branch list prepare (for distribution)\n",
    "    SBL=[]#search branch list\n",
    "    for i in range(len(Vls)):\n",
    "        iV=Vls[i][:-1]#to compare\n",
    "        if iV==Vl:#record weight distribution\n",
    "            #iweights=\n",
    "            #SBL.append(SB(data,Vls[i],point,weights+float(data[i,1]),co+','+Vls[i]))\n",
    "            PSBL.append(i)\n",
    "    #print(Vl,PSBL)\n",
    "    if len(PSBL)==0:#no subplot\n",
    "        return weights, ', '+Vl\n",
    "    elif len(PSBL)==1:#have 1 subplot\n",
    "        #print(SB(data,Vls[PSBL[0]],point,float(data[PSBL[0],1])))\n",
    "        [PSBLw, PSBLco]=SB(data,Vls[PSBL[0]],point,float(data[PSBL[0],1]))\n",
    "        return weights+PSBLw, ', '+Vl+PSBLco\n",
    "    else:#start distribution\n",
    "        if point==0: return weights, ', '+Vl#can not distribute\n",
    "        if point==1:#simple distribute\n",
    "            for i2 in PSBL:\n",
    "                #print('i2')\n",
    "                SBL.append(SB(data,Vls[i2],1,float(data[i2,1])))#deal with SBL with point>1\n",
    "        else:\n",
    "            #print(point,PSBL)\n",
    "            PL=DP(round(point),len(PSBL))#prepare the point list\n",
    "            for thePL in PL:\n",
    "                thePLw=0\n",
    "                thePLco=''\n",
    "                for i4, i5 in zip(thePL, PSBL):\n",
    "                    [i4a, i4b]=SB(data,Vls[i5],i4,float(data[i5,1]))\n",
    "                    thePLw += i4a\n",
    "                    thePLco = thePLco + i4b\n",
    "                #print('i4')\n",
    "                SBL.append([thePLw, thePLco])\n",
    "            \n",
    "        #print(SBL)\n",
    "        Cmax=max([choose[0] for choose in SBL])#check highest weight\n",
    "        \n",
    "        for i3 in SBL:\n",
    "            if i3[0]==Cmax:\n",
    "                i3a=weights+Cmax\n",
    "                i3b=', '+Vl+i3[1]\n",
    "                \n",
    "                return i3a, i3b "
   ]
  },
  {
   "cell_type": "code",
   "execution_count": 10,
   "metadata": {},
   "outputs": [],
   "source": [
    "#SB(data,'1',11,0.004200672)"
   ]
  },
  {
   "cell_type": "code",
   "execution_count": 18,
   "metadata": {},
   "outputs": [
    {
     "data": {
      "text/plain": [
       "(1.089354467,\n",
       " ', , 1, 10, 102, 3, 31, 310, 5, 51, 512, 5120, 511, 5110, 51100, 511000, 5110000')"
      ]
     },
     "execution_count": 18,
     "metadata": {},
     "output_type": "execute_result"
    }
   ],
   "source": [
    "SB(data,'',12,9999)"
   ]
  },
  {
   "cell_type": "markdown",
   "metadata": {},
   "source": [
    "Above is for simple mental. For complicate mental such as Iroha. Use below to be faster."
   ]
  },
  {
   "cell_type": "code",
   "execution_count": 11,
   "metadata": {},
   "outputs": [],
   "source": [
    "Faster=np.array([range(1,7),[13,38-13-5,50-38,63-50-4,88-63-6,100-88]])"
   ]
  },
  {
   "cell_type": "code",
   "execution_count": 12,
   "metadata": {},
   "outputs": [],
   "source": [
    "Dic={}"
   ]
  },
  {
   "cell_type": "code",
   "execution_count": 13,
   "metadata": {},
   "outputs": [
    {
     "name": "stdout",
     "output_type": "stream",
     "text": [
      "Dictionary of branch 1 in point 1 finishes uses 0.0 sec.\n",
      "\n",
      "Dictionary of branch 1 in point 2 finishes uses 0.0 sec.\n",
      "\n",
      "Dictionary of branch 1 in point 3 finishes uses 0.0 sec.\n",
      "\n",
      "Dictionary of branch 1 in point 4 finishes uses 0.0 sec.\n",
      "\n",
      "Dictionary of branch 1 in point 5 finishes uses 0.0 sec.\n",
      "\n",
      "Dictionary of branch 1 in point 6 finishes uses 0.0 sec.\n",
      "\n",
      "Dictionary of branch 1 in point 7 finishes uses 0.00802159309387207 sec.\n",
      "\n",
      "Dictionary of branch 1 in point 8 finishes uses 0.0 sec.\n",
      "\n",
      "Dictionary of branch 1 in point 9 finishes uses 0.0 sec.\n",
      "\n",
      "Dictionary of branch 1 in point 10 finishes uses 0.010653018951416016 sec.\n",
      "\n",
      "Dictionary of branch 1 in point 11 finishes uses 0.00889277458190918 sec.\n",
      "\n",
      "Dictionary of branch 1 in point 12 finishes uses 0.0004928112030029297 sec.\n",
      "\n",
      "Dictionary of branch 1 in point 13 finishes uses 0.010135173797607422 sec.\n",
      "\n",
      "Dictionary of branch 2 in point 1 finishes uses 0.0 sec.\n",
      "\n",
      "Dictionary of branch 2 in point 2 finishes uses 0.0 sec.\n",
      "\n",
      "Dictionary of branch 2 in point 3 finishes uses 0.0 sec.\n",
      "\n",
      "Dictionary of branch 2 in point 4 finishes uses 0.011705398559570312 sec.\n",
      "\n",
      "Dictionary of branch 2 in point 5 finishes uses 0.0 sec.\n",
      "\n",
      "Dictionary of branch 2 in point 6 finishes uses 0.011846542358398438 sec.\n",
      "\n",
      "Dictionary of branch 2 in point 7 finishes uses 0.02314305305480957 sec.\n",
      "\n",
      "Dictionary of branch 2 in point 8 finishes uses 0.034956932067871094 sec.\n",
      "\n",
      "Dictionary of branch 2 in point 9 finishes uses 0.049822330474853516 sec.\n",
      "\n",
      "Dictionary of branch 2 in point 10 finishes uses 0.06995844841003418 sec.\n",
      "\n",
      "Dictionary of branch 2 in point 11 finishes uses 0.09998607635498047 sec.\n",
      "\n",
      "Dictionary of branch 2 in point 12 finishes uses 0.13509011268615723 sec.\n",
      "\n",
      "Dictionary of branch 2 in point 13 finishes uses 0.17496466636657715 sec.\n",
      "\n",
      "Dictionary of branch 2 in point 14 finishes uses 0.2155005931854248 sec.\n",
      "\n",
      "Dictionary of branch 2 in point 15 finishes uses 0.30962324142456055 sec.\n",
      "\n",
      "Dictionary of branch 2 in point 16 finishes uses 0.36501455307006836 sec.\n",
      "\n",
      "Dictionary of branch 2 in point 17 finishes uses 0.44464588165283203 sec.\n",
      "\n",
      "Dictionary of branch 2 in point 18 finishes uses 0.573021650314331 sec.\n",
      "\n",
      "Dictionary of branch 2 in point 19 finishes uses 0.6603803634643555 sec.\n",
      "\n",
      "Dictionary of branch 2 in point 20 finishes uses 0.7377669811248779 sec.\n",
      "\n",
      "Dictionary of branch 3 in point 1 finishes uses 0.0 sec.\n",
      "\n",
      "Dictionary of branch 3 in point 2 finishes uses 0.0 sec.\n",
      "\n",
      "Dictionary of branch 3 in point 3 finishes uses 0.0 sec.\n",
      "\n",
      "Dictionary of branch 3 in point 4 finishes uses 0.0 sec.\n",
      "\n",
      "Dictionary of branch 3 in point 5 finishes uses 0.0 sec.\n",
      "\n",
      "Dictionary of branch 3 in point 6 finishes uses 0.0 sec.\n",
      "\n",
      "Dictionary of branch 3 in point 7 finishes uses 0.0 sec.\n",
      "\n",
      "Dictionary of branch 3 in point 8 finishes uses 0.0 sec.\n",
      "\n",
      "Dictionary of branch 3 in point 9 finishes uses 0.0 sec.\n",
      "\n",
      "Dictionary of branch 3 in point 10 finishes uses 0.0 sec.\n",
      "\n",
      "Dictionary of branch 3 in point 11 finishes uses 0.0 sec.\n",
      "\n",
      "Dictionary of branch 3 in point 12 finishes uses 0.004122018814086914 sec.\n",
      "\n",
      "Dictionary of branch 4 in point 1 finishes uses 0.0 sec.\n",
      "\n",
      "Dictionary of branch 4 in point 2 finishes uses 0.0010669231414794922 sec.\n",
      "\n",
      "Dictionary of branch 4 in point 3 finishes uses 0.0 sec.\n",
      "\n",
      "Dictionary of branch 4 in point 4 finishes uses 0.0 sec.\n",
      "\n",
      "Dictionary of branch 4 in point 5 finishes uses 0.0 sec.\n",
      "\n",
      "Dictionary of branch 4 in point 6 finishes uses 0.0 sec.\n",
      "\n",
      "Dictionary of branch 4 in point 7 finishes uses 0.007866144180297852 sec.\n",
      "\n",
      "Dictionary of branch 4 in point 8 finishes uses 0.0 sec.\n",
      "\n",
      "Dictionary of branch 4 in point 9 finishes uses 0.0 sec.\n",
      "\n",
      "Dictionary of branch 5 in point 1 finishes uses 0.0 sec.\n",
      "\n",
      "Dictionary of branch 5 in point 2 finishes uses 0.0 sec.\n",
      "\n",
      "Dictionary of branch 5 in point 3 finishes uses 0.009719133377075195 sec.\n",
      "\n",
      "Dictionary of branch 5 in point 4 finishes uses 0.0005435943603515625 sec.\n",
      "\n",
      "Dictionary of branch 5 in point 5 finishes uses 0.0 sec.\n",
      "\n",
      "Dictionary of branch 5 in point 6 finishes uses 0.01466822624206543 sec.\n",
      "\n",
      "Dictionary of branch 5 in point 7 finishes uses 0.009901046752929688 sec.\n",
      "\n",
      "Dictionary of branch 5 in point 8 finishes uses 0.02006053924560547 sec.\n",
      "\n",
      "Dictionary of branch 5 in point 9 finishes uses 0.02483367919921875 sec.\n",
      "\n",
      "Dictionary of branch 5 in point 10 finishes uses 0.03091716766357422 sec.\n",
      "\n",
      "Dictionary of branch 5 in point 11 finishes uses 0.04434013366699219 sec.\n",
      "\n",
      "Dictionary of branch 5 in point 12 finishes uses 0.05940699577331543 sec.\n",
      "\n",
      "Dictionary of branch 5 in point 13 finishes uses 0.08580374717712402 sec.\n",
      "\n",
      "Dictionary of branch 5 in point 14 finishes uses 0.08449792861938477 sec.\n",
      "\n",
      "Dictionary of branch 5 in point 15 finishes uses 0.09999442100524902 sec.\n",
      "\n",
      "Dictionary of branch 5 in point 16 finishes uses 0.12016177177429199 sec.\n",
      "\n",
      "Dictionary of branch 5 in point 17 finishes uses 0.1351180076599121 sec.\n",
      "\n",
      "Dictionary of branch 5 in point 18 finishes uses 0.17267298698425293 sec.\n",
      "\n",
      "Dictionary of branch 5 in point 19 finishes uses 0.22548842430114746 sec.\n",
      "\n",
      "Dictionary of branch 6 in point 1 finishes uses 0.0 sec.\n",
      "\n",
      "Dictionary of branch 6 in point 2 finishes uses 0.0 sec.\n",
      "\n",
      "Dictionary of branch 6 in point 3 finishes uses 0.0 sec.\n",
      "\n",
      "Dictionary of branch 6 in point 4 finishes uses 0.0 sec.\n",
      "\n",
      "Dictionary of branch 6 in point 5 finishes uses 0.0 sec.\n",
      "\n",
      "Dictionary of branch 6 in point 6 finishes uses 0.002047300338745117 sec.\n",
      "\n",
      "Dictionary of branch 6 in point 7 finishes uses 0.0 sec.\n",
      "\n",
      "Dictionary of branch 6 in point 8 finishes uses 0.0 sec.\n",
      "\n",
      "Dictionary of branch 6 in point 9 finishes uses 0.0 sec.\n",
      "\n",
      "Dictionary of branch 6 in point 10 finishes uses 0.0 sec.\n",
      "\n",
      "Dictionary of branch 6 in point 11 finishes uses 0.0 sec.\n",
      "\n",
      "Dictionary of branch 6 in point 12 finishes uses 0.0 sec.\n",
      "\n"
     ]
    }
   ],
   "source": [
    "for i in Faster[0]:\n",
    "    Dic[i]=[]\n",
    "    data2=[]\n",
    "    for i3 in data:\n",
    "        if i3[0][0]==str(i):\n",
    "            data2.append(i3)\n",
    "    for i2 in range(1,Faster[1][i-1]+1):\n",
    "        t=time.time()\n",
    "        Dic[i].append(SB(np.array(data2),'',i2,9999))\n",
    "        print('Dictionary of branch '+str(i)+' in point '+str(i2)+' finishes uses '+str(time.time()-t)+' sec.\\n')"
   ]
  },
  {
   "cell_type": "code",
   "execution_count": 14,
   "metadata": {},
   "outputs": [
    {
     "data": {
      "text/plain": [
       "{1: [(0.004200672, ', , 1'),\n",
       "  (0.014200672000000001, ', , 1, 10'),\n",
       "  (0.026200671999999998, ', , 1, 10, 102'),\n",
       "  (0.032574158000000006, ', , 1, 10, 102, 1020'),\n",
       "  (0.038469633, ', , 1, 10, 101, 102, 1020'),\n",
       "  (0.043750478, ', , 1, 10, 101, 1010, 102, 1020'),\n",
       "  (0.052408392000000005, ', , 1, 10, 101, 1010, 10100, 101000, 1010000'),\n",
       "  (0.064408392, ', , 1, 10, 101, 1010, 10100, 101000, 1010000, 102'),\n",
       "  (0.070781878, ', , 1, 10, 101, 1010, 10100, 101000, 1010000, 102, 1020'),\n",
       "  (0.07582275,\n",
       "   ', , 1, 10, 101, 1010, 10100, 101000, 1010000, 102, 1020, 10200'),\n",
       "  (0.08192453899999999,\n",
       "   ', , 1, 10, 103, 1030, 10300, 101, 1010, 10100, 101000, 1010000, 102'),\n",
       "  (0.088298025,\n",
       "   ', , 1, 10, 103, 1030, 10300, 101, 1010, 10100, 101000, 1010000, 102, 1020'),\n",
       "  (0.09333889699999999,\n",
       "   ', , 1, 10, 103, 1030, 10300, 101, 1010, 10100, 101000, 1010000, 102, 1020, 10200')],\n",
       " 2: [(0.005040872, ', , 2, 23, 230, 2300, 23001, 230012'),\n",
       "  (0.011733033, ', , 2, 23, 230, 2300, 23001, 230012, 2300120'),\n",
       "  (0.016936023, ', , 2, 23, 230, 2300, 23002, 230020, 2300200'),\n",
       "  (0.031754379, ', , 2, 23, 230, 2300, 23002, 230020, 2300200, 23002000'),\n",
       "  (0.036795251,\n",
       "   ', , 2, 23, 230, 2300, 23001, 230012, 23002, 230020, 2300200, 23002000'),\n",
       "  (0.043487412,\n",
       "   ', , 2, 23, 230, 2300, 23001, 230012, 2300120, 23002, 230020, 2300200, 23002000'),\n",
       "  (0.048210391,\n",
       "   ', , 2, 23, 230, 2300, 23001, 230011, 230012, 2300120, 23002, 230020, 2300200, 23002000'),\n",
       "  (0.059969647,\n",
       "   ', , 2, 21, 210, 2101, 21010, 23, 230, 2300, 23002, 230020, 2300200, 23002000'),\n",
       "  (0.065010519,\n",
       "   ', , 2, 21, 210, 2101, 21010, 23, 230, 2300, 23001, 230012, 23002, 230020, 2300200, 23002000'),\n",
       "  (0.07170268,\n",
       "   ', , 2, 21, 210, 2101, 21010, 23, 230, 2300, 23001, 230012, 2300120, 23002, 230020, 2300200, 23002000'),\n",
       "  (0.076425659,\n",
       "   ', , 2, 21, 210, 2101, 21010, 23, 230, 2300, 23001, 230011, 230012, 2300120, 23002, 230020, 2300200, 23002000'),\n",
       "  (0.08311782000000001,\n",
       "   ', , 2, 21, 210, 2101, 21010, 2102, 21020, 23, 230, 2300, 23001, 230012, 2300120, 23002, 230020, 2300200, 23002000'),\n",
       "  (0.09147820100000001,\n",
       "   ', , 2, 21, 210, 2101, 21010, 22, 220, 2200, 22000, 220000, 23, 230, 2300, 23002, 230020, 2300200, 23002000'),\n",
       "  (0.09651907300000001,\n",
       "   ', , 2, 21, 210, 2101, 21010, 22, 220, 2200, 22000, 220000, 23, 230, 2300, 23001, 230012, 23002, 230020, 2300200, 23002000'),\n",
       "  (0.10321123400000001,\n",
       "   ', , 2, 21, 210, 2101, 21010, 22, 220, 2200, 22000, 220000, 23, 230, 2300, 23001, 230012, 2300120, 23002, 230020, 2300200, 23002000'),\n",
       "  (0.107934213,\n",
       "   ', , 2, 21, 210, 2101, 21010, 22, 220, 2200, 22000, 220000, 23, 230, 2300, 23001, 230011, 230012, 2300120, 23002, 230020, 2300200, 23002000'),\n",
       "  (0.114626374,\n",
       "   ', , 2, 21, 210, 2101, 21010, 2102, 21020, 22, 220, 2200, 22000, 220000, 23, 230, 2300, 23001, 230012, 2300120, 23002, 230020, 2300200, 23002000'),\n",
       "  (0.119667246,\n",
       "   ', , 2, 21, 210, 2101, 21010, 22, 220, 2200, 22000, 220000, 23, 230, 2300, 23001, 230011, 2300110, 23001100, 230012, 2300120, 23002, 230020, 2300200, 23002000'),\n",
       "  (0.124390225,\n",
       "   ', , 2, 21, 210, 2101, 21010, 2102, 22, 220, 2200, 22000, 220000, 23, 230, 2300, 23001, 230011, 2300110, 23001100, 230012, 2300120, 23002, 230020, 2300200, 23002000'),\n",
       "  (0.131082386,\n",
       "   ', , 2, 21, 210, 2101, 21010, 2102, 21020, 22, 220, 2200, 22000, 220000, 23, 230, 2300, 23001, 230011, 2300110, 23001100, 230012, 2300120, 23002, 230020, 2300200, 23002000')],\n",
       " 3: [(0.005258126, ', , 3'),\n",
       "  (0.010994264, ', , 3, 31'),\n",
       "  (0.022994264, ', , 3, 31, 310'),\n",
       "  (0.028730402000000002, ', , 3, 31, 310, 32'),\n",
       "  (0.034011247, ', , 3, 31, 310, 3100, 32'),\n",
       "  (0.038812015, ', , 3, 31, 310, 32, 320, 3200'),\n",
       "  (0.04409286, ', , 3, 31, 310, 3100, 32, 320, 3200'),\n",
       "  (0.048815839, ', , 3, 31, 310, 3100, 32, 320, 3200, 32000'),\n",
       "  (0.054096749, ', , 3, 31, 310, 32, 320, 3200, 32000, 320000, 3200000'),\n",
       "  (0.06078891,\n",
       "   ', , 3, 31, 310, 32, 320, 3200, 32000, 320000, 3200000, 32000000'),\n",
       "  (0.066309793,\n",
       "   ', , 3, 31, 310, 32, 320, 3200, 32000, 320000, 3200000, 32000000, 320000000'),\n",
       "  (0.07159063800000001,\n",
       "   ', , 3, 31, 310, 3100, 32, 320, 3200, 32000, 320000, 3200000, 32000000, 320000000')],\n",
       " 4: [(0.004800768, ', , 4, 40, 402'),\n",
       "  (0.010081613, ', , 4, 40, 402, 4020'),\n",
       "  (0.016423506, ', , 4, 40, 403, 4030, 40300'),\n",
       "  (0.029145542, ', , 4, 40, 403, 4030, 40300, 403000'),\n",
       "  (0.035461724, ', , 4, 40, 402, 4020, 40200, 402000, 4020000'),\n",
       "  (0.039912223999999996, ', , 4, 40, 403, 402, 4020, 40200, 402000, 4020000'),\n",
       "  (0.045193069, ', , 4, 40, 403, 4030, 402, 4020, 40200, 402000, 4020000'),\n",
       "  (0.051885230000000004,\n",
       "   ', , 4, 40, 403, 4030, 40300, 402, 4020, 40200, 402000, 4020000'),\n",
       "  (0.064607266,\n",
       "   ', , 4, 40, 403, 4030, 40300, 403000, 402, 4020, 40200, 402000, 4020000')],\n",
       " 5: [(1.0, ', , 5, 51, 512, 5120'),\n",
       "  (1.005520883, ', , 5, 52, 520, 5202, 52020, 51, 512, 5120'),\n",
       "  (1.01656073, ', , 5, 51, 512, 5120, 511, 5110'),\n",
       "  (1.02218755, ', , 5, 52, 520, 5202, 52020, 520200, 5202000, 51, 512, 5120'),\n",
       "  (1.028533736, ', , 5, 51, 512, 5120, 511, 5110, 51100, 511000'),\n",
       "  (1.040159531, ', , 5, 51, 512, 5120, 511, 5110, 51100, 511000, 5110000'),\n",
       "  (1.045680414,\n",
       "   ', , 5, 52, 520, 5202, 52020, 51, 512, 5120, 511, 5110, 51100, 511000, 5110000'),\n",
       "  (1.051574671,\n",
       "   ', , 5, 51, 512, 5120, 51200, 512000, 511, 5110, 51100, 511000, 5110000'),\n",
       "  (1.062347081,\n",
       "   ', , 5, 52, 520, 5202, 52020, 520200, 5202000, 51, 512, 5120, 511, 5110, 51100, 511000, 5110000'),\n",
       "  (1.0676279260000001,\n",
       "   ', , 5, 52, 520, 5201, 5202, 52020, 520200, 5202000, 51, 512, 5120, 511, 5110, 51100, 511000, 5110000'),\n",
       "  (1.073762221,\n",
       "   ', , 5, 52, 520, 5202, 52020, 520200, 5202000, 51, 512, 5120, 51200, 512000, 511, 5110, 51100, 511000, 5110000'),\n",
       "  (1.0804543819999999,\n",
       "   ', , 5, 52, 520, 5202, 52020, 520200, 5202000, 51, 512, 5120, 51200, 512000, 5120000, 511, 5110, 51100, 511000, 5110000'),\n",
       "  (1.085735227,\n",
       "   ', , 5, 52, 520, 5201, 5202, 52020, 520200, 5202000, 51, 512, 5120, 51200, 512000, 5120000, 511, 5110, 51100, 511000, 5110000'),\n",
       "  (1.091628636,\n",
       "   ', , 5, 52, 520, 5202, 52020, 520200, 5202000, 5203, 52030, 51, 512, 5120, 51200, 512000, 5120000, 511, 5110, 51100, 511000, 5110000'),\n",
       "  (1.096909481,\n",
       "   ', , 5, 52, 520, 5201, 5202, 52020, 520200, 5202000, 5203, 52030, 51, 512, 5120, 51200, 512000, 5120000, 511, 5110, 51100, 511000, 5110000'),\n",
       "  (1.102190391,\n",
       "   ', , 5, 52, 520, 5202, 52020, 520200, 5202000, 5203, 52030, 520300, 5203000, 51, 512, 5120, 51200, 512000, 5120000, 511, 5110, 51100, 511000, 5110000'),\n",
       "  (1.107711274,\n",
       "   ', , 5, 52, 520, 5202, 52020, 520200, 5202000, 5203, 52030, 520300, 5203000, 52030000, 51, 512, 5120, 51200, 512000, 5120000, 511, 5110, 51100, 511000, 5110000'),\n",
       "  (1.1129921189999998,\n",
       "   ', , 5, 52, 520, 5201, 5202, 52020, 520200, 5202000, 5203, 52030, 520300, 5203000, 52030000, 51, 512, 5120, 51200, 512000, 5120000, 511, 5110, 51100, 511000, 5110000'),\n",
       "  (1.118032991,\n",
       "   ', , 5, 52, 520, 5201, 52010, 5202, 52020, 520200, 5202000, 5203, 52030, 520300, 5203000, 52030000, 51, 512, 5120, 51200, 512000, 5120000, 511, 5110, 51100, 511000, 5110000')],\n",
       " 6: [(0.004200672, ', , 6'),\n",
       "  (0.010574158, ', , 6, 61'),\n",
       "  (0.015134887999999999, ', , 6, 61, 62'),\n",
       "  (0.021398144, ', , 6, 61, 610, 6100'),\n",
       "  (0.02777163, ', , 6, 61, 610, 6100, 61000'),\n",
       "  (0.038178575000000006, ', , 6, 62, 620, 6200, 62000, 620000'),\n",
       "  (0.046014549, ', , 6, 61, 610, 6100, 61000, 610000, 6100000'),\n",
       "  (0.050575279, ', , 6, 61, 610, 6100, 61000, 610000, 6100000, 62'),\n",
       "  (0.05537604700000001, ', , 6, 61, 610, 6100, 62, 620, 6200, 62000, 620000'),\n",
       "  (0.06174953300000001,\n",
       "   ', , 6, 61, 610, 6100, 61000, 62, 620, 6200, 62000, 620000'),\n",
       "  (0.06727041600000001,\n",
       "   ', , 6, 61, 610, 6100, 61000, 610000, 62, 620, 6200, 62000, 620000'),\n",
       "  (0.079992452,\n",
       "   ', , 6, 61, 610, 6100, 61000, 610000, 6100000, 62, 620, 6200, 62000, 620000')]}"
      ]
     },
     "execution_count": 14,
     "metadata": {},
     "output_type": "execute_result"
    }
   ],
   "source": [
    "Dic"
   ]
  },
  {
   "cell_type": "code",
   "execution_count": 15,
   "metadata": {},
   "outputs": [
    {
     "data": {
      "text/plain": [
       "array([13, 20, 12,  9, 19, 12])"
      ]
     },
     "execution_count": 15,
     "metadata": {},
     "output_type": "execute_result"
    }
   ],
   "source": [
    "Faster[1]"
   ]
  },
  {
   "cell_type": "code",
   "execution_count": 16,
   "metadata": {},
   "outputs": [],
   "source": [
    "BG=np.array([sum(Faster[1][:i]) for i in range(6)])#background"
   ]
  },
  {
   "cell_type": "code",
   "execution_count": 17,
   "metadata": {},
   "outputs": [],
   "source": [
    "for i in range(1,7):\n",
    "    Dic[i].append([0])#a little skill"
   ]
  },
  {
   "cell_type": "code",
   "execution_count": 18,
   "metadata": {},
   "outputs": [],
   "source": [
    "def R1():#random 1\n",
    "    a=random.random()*85\n",
    "    return sum((a-BG)>0)"
   ]
  },
  {
   "cell_type": "code",
   "execution_count": 19,
   "metadata": {},
   "outputs": [],
   "source": [
    "def R2():\n",
    "    a=[]\n",
    "    for i in range(45):\n",
    "        a.append(R1())\n",
    "    a=np.array(a)\n",
    "    if sum(a==1)>13 or sum(a==2)>20 or sum(a==3)>12 or sum(a==4)>9 or sum(a==5)>19 or sum(a==6)>12:\n",
    "        return -9999,[1,1,1,1,1,1]\n",
    "    CL=[sum(a==1), sum(a==2), sum(a==3),sum(a==4),sum(a==5),sum(a==6)]#check list\n",
    "    W=0\n",
    "    for i2 in range(1,7):\n",
    "        W += Dic[i2][CL[i2-1]-1][0]\n",
    "    return W,CL\n",
    "    "
   ]
  },
  {
   "cell_type": "markdown",
   "metadata": {},
   "source": [
    "# Need 15 min"
   ]
  },
  {
   "cell_type": "code",
   "execution_count": 20,
   "metadata": {},
   "outputs": [],
   "source": [
    "WL=[]\n",
    "CLL=[]\n",
    "for i in range(500000): \n",
    "    a,b=R2()\n",
    "    WL.append(a)\n",
    "    CLL.append(b)"
   ]
  },
  {
   "cell_type": "code",
   "execution_count": 21,
   "metadata": {},
   "outputs": [
    {
     "data": {
      "text/plain": [
       "1.326714685"
      ]
     },
     "execution_count": 21,
     "metadata": {},
     "output_type": "execute_result"
    }
   ],
   "source": [
    "max(WL)"
   ]
  },
  {
   "cell_type": "code",
   "execution_count": 22,
   "metadata": {},
   "outputs": [
    {
     "data": {
      "text/plain": [
       "array([[9, 8, 3, 9, 9, 7],\n",
       "       [9, 8, 3, 9, 9, 7]])"
      ]
     },
     "execution_count": 22,
     "metadata": {},
     "output_type": "execute_result"
    }
   ],
   "source": [
    "WL=np.array(WL)\n",
    "CLL=np.array(CLL)\n",
    "\n",
    "CLL[WL==max(WL)]"
   ]
  },
  {
   "cell_type": "markdown",
   "metadata": {},
   "source": [
    "My Iroha: 9, 8, 3, 9, 9, 7\n",
    "1 (0.070781878, ', , 1, 10, 101, 1010, 10100, 101000, 1010000, 102, 1020')\n",
    "2 (0.059969647,', , 2, 21, 210, 2101, 21010, 23, 230, 2300, 23002, 230020, 2300200, 23002000')\n",
    "3 (0.022994264, ', , 3, 31, 310')\n",
    "4 (0.064607266, ', , 4, 40, 403, 4030, 40300, 403000, 402, 4020, 40200, 402000, 4020000') (active all)\n",
    "5 (1.062347081, ', , 5, 52, 520, 5202, 52020, 520200, 5202000, 51, 512, 5120, 511, 5110, 51100, 511000, 5110000')\n",
    "6 (0.046014549, ', , 6, 61, 610, 6100, 61000, 610000, 6100000')"
   ]
  },
  {
   "cell_type": "code",
   "execution_count": 23,
   "metadata": {},
   "outputs": [
    {
     "data": {
      "text/plain": [
       "500000"
      ]
     },
     "execution_count": 23,
     "metadata": {},
     "output_type": "execute_result"
    }
   ],
   "source": [
    "len(WL)"
   ]
  },
  {
   "cell_type": "code",
   "execution_count": 24,
   "metadata": {},
   "outputs": [],
   "source": [
    "WL2=WL[WL!=-9999]"
   ]
  },
  {
   "cell_type": "code",
   "execution_count": 25,
   "metadata": {},
   "outputs": [
    {
     "data": {
      "text/plain": [
       "479904"
      ]
     },
     "execution_count": 25,
     "metadata": {},
     "output_type": "execute_result"
    }
   ],
   "source": [
    "len(WL2)"
   ]
  },
  {
   "cell_type": "code",
   "execution_count": 35,
   "metadata": {},
   "outputs": [
    {
     "data": {
      "text/plain": [
       "Text(0, 0.5, 'Weight')"
      ]
     },
     "execution_count": 35,
     "metadata": {},
     "output_type": "execute_result"
    },
    {
     "data": {
      "image/png": "[encoded data removed]",
      "text/plain": [
       "<Figure size 432x288 with 1 Axes>"
      ]
     },
     "metadata": {
      "needs_background": "light"
     },
     "output_type": "display_data"
    }
   ],
   "source": [
    "import matplotlib.pyplot as plt\n",
    "\n",
    "plt.plot(np.sort(WL2,-1)[30:])\n",
    "plt.title('Iroha: Mental Strength Efficient')\n",
    "plt.xlabel('Random Times')\n",
    "plt.ylabel('Weight')"
   ]
  },
  {
   "cell_type": "code",
   "execution_count": null,
   "metadata": {},
   "outputs": [],
   "source": []
  }
 ],
 "metadata": {
  "kernelspec": {
   "display_name": "Python 3",
   "language": "python",
   "name": "python3"
  },
  "language_info": {
   "codemirror_mode": {
    "name": "ipython",
    "version": 3
   },
   "file_extension": ".py",
   "mimetype": "text/x-python",
   "name": "python",
   "nbconvert_exporter": "python",
   "pygments_lexer": "ipython3",
   "version": "3.7.6"
  }
 },
 "nbformat": 4,
 "nbformat_minor": 4
}
